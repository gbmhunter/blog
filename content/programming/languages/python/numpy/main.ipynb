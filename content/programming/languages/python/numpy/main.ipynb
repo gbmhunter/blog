{
 "nbformat": 4,
 "nbformat_minor": 2,
 "metadata": {
  "language_info": {
   "name": "python",
   "codemirror_mode": {
    "name": "ipython",
    "version": 3
   },
   "version": "3.8.5-final"
  },
  "orig_nbformat": 2,
  "file_extension": ".py",
  "mimetype": "text/x-python",
  "name": "python",
  "npconvert_exporter": "python",
  "pygments_lexer": "ipython3",
  "version": 3,
  "kernelspec": {
   "name": "python38532bit5ce9e612746248e9b918973d321d9262",
   "display_name": "Python 3.8.5 32-bit"
  }
 },
 "cells": [
  {
   "cell_type": "code",
   "execution_count": 2,
   "metadata": {},
   "outputs": [],
   "source": [
    "import numpy as np"
   ]
  },
  {
   "cell_type": "markdown",
   "metadata": {},
   "source": [
    "# Removing Masked Values From Array"
   ]
  },
  {
   "cell_type": "code",
   "execution_count": 3,
   "metadata": {},
   "outputs": [
    {
     "name": "stdout",
     "output_type": "stream",
     "text": "[1 3 4]\n"
    }
   ],
   "source": [
    "masked_array = np.ma.masked_equal([1, 2, 3, 4], 2)\n",
    "no_masked_values = masked_array.compressed()\n",
    "print(no_masked_values)"
   ]
  },
  {
   "cell_type": "code",
   "execution_count": 7,
   "metadata": {
    "tags": []
   },
   "outputs": [
    {
     "output_type": "stream",
     "name": "stdout",
     "text": "[[ 1 10]\n [ 2 20]\n [ 3 30]\n [ 4 40]]\n"
    }
   ],
   "source": [
    "x_vals = np.array([ 1, 2, 3, 4])\n",
    "y_vals = np.array([ 10, 20, 30, 40])\n",
    "coords = np.stack([x_vals, y_vals], axis=1)\n",
    "print(coords)"
   ]
  },
  {
   "cell_type": "code",
   "execution_count": null,
   "metadata": {},
   "outputs": [],
   "source": []
  }
 ]
}